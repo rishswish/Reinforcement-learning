{
  "nbformat": 4,
  "nbformat_minor": 0,
  "metadata": {
    "colab": {
      "provenance": []
    },
    "kernelspec": {
      "name": "python3",
      "display_name": "Python 3"
    },
    "language_info": {
      "name": "python"
    }
  },
  "cells": [
    {
      "cell_type": "code",
      "execution_count": null,
      "metadata": {
        "colab": {
          "base_uri": "https://localhost:8080/"
        },
        "id": "1HZvHJ0ca25H",
        "outputId": "fdfad613-f3c0-40bd-fc1c-f6e052b4187b"
      },
      "outputs": [
        {
          "output_type": "stream",
          "name": "stdout",
          "text": [
            "Bandit problem\n"
          ]
        }
      ],
      "source": [
        "print(\"Bandit problem\")"
      ]
    },
    {
      "cell_type": "markdown",
      "source": [
        "#Name:Rishabh Patil\n",
        "#SAP:60009200056\n",
        "#Batch:K2 Div:K"
      ],
      "metadata": {
        "id": "lX4X9laVdRUH"
      }
    },
    {
      "cell_type": "markdown",
      "source": [
        "#Multiarm Bandit Problem"
      ],
      "metadata": {
        "id": "MMRAnmFMcNpg"
      }
    },
    {
      "cell_type": "markdown",
      "source": [
        "Updation formula\n",
        "Qk+1=Qk+alpha[Rk-Qk]"
      ],
      "metadata": {
        "id": "aUAZ6B1GelqK"
      }
    },
    {
      "cell_type": "code",
      "source": [
        "e=0.6\n",
        "R=[0.5,0.25]\n",
        "alpha=0.3\n",
        "n=10\n",
        "\n",
        "\n",
        "def bandit(e,R,alpha,n):\n",
        "\n",
        "  Q=[]\n",
        "  Q.append([0])\n",
        "  Q.append([0])\n",
        "  total=[]\n",
        "  # print(Q)\n",
        "  import random\n",
        "  exploration,expliotation=0,0\n",
        "  arm1,arm2=0,0\n",
        "  for i in range(1,n+1):\n",
        "    new_Qka=Q[0][-1]+alpha*(R[0]-Q[0][-1])\n",
        "    new_Qkb=Q[1][-1]+alpha*(R[1]-Q[1][-1])\n",
        "    if(new_Qka==R[0]):\n",
        "      \n",
        "      print(\"Arm 1 converged at: \",i)\n",
        "    if(new_Qkb==R[1]):\n",
        "      \n",
        "      print(\"Arm 2 converged at: \",i)\n",
        "    temp=random.random()\n",
        "    if(temp<e):\n",
        "      exploration+=1\n",
        "      temp1=random.choice([0,1])\n",
        "      if(temp1==0):\n",
        "        # Q[0][i]=new_Qka\n",
        "        arm1+=1\n",
        "        Q[0].append(new_Qka)\n",
        "        \n",
        "        # print(\"Arm 1\")\n",
        "      else:\n",
        "        # Q[1][i]=new_Qkb\n",
        "        arm2+=1\n",
        "        Q[1].append(new_Qkb)\n",
        "        # print(\"Arm 2\")\n",
        "    else:\n",
        "      expliotation+=1\n",
        "      if(new_Qka>new_Qkb):\n",
        "        # Q[0][i]=new_Qka\n",
        "        arm1+=1\n",
        "        Q[0].append(new_Qka)\n",
        "        # print(\"Arm 1\")\n",
        "      else:\n",
        "        # Q[1][i]=new_Qkb\n",
        "        arm2+=1\n",
        "        Q[1].append(new_Qkb)\n",
        "        # print(\"Arm 2\")\n",
        "    total.append(arm1*R[0]+arm2*R[1])\n",
        "\n",
        "    # print(Q)\n",
        "\n",
        "  # print(Q)\n",
        "  print(\"Exploration: \",exploration)\n",
        "  print(\"Exploitation: \",expliotation)\n",
        "  # plt.axhline(y = 0.25, color = 'r', linestyle = '-')\n",
        "  # plt.axhline(y = 0.5, color = 'g', linestyle = '-')\n",
        "  # plt.plot(Q[0])\n",
        "  # plt.plot(Q[1])\n",
        "  plt.plot(total)\n",
        " \n",
        "\n",
        "def bandit1(e,R,alpha,n):\n",
        "\n",
        "  Q=[]\n",
        "  Q.append([0])\n",
        "  Q.append([0])\n",
        "  total=[]\n",
        "  # print(Q)\n",
        "  import random\n",
        "  exploration,expliotation=0,0\n",
        "  arm1,arm2=0,0\n",
        "  for i in range(1,n+1):\n",
        "    new_Qka=Q[0][-1]+alpha*(R[0]-Q[0][-1])\n",
        "    new_Qkb=Q[1][-1]+alpha*(R[1]-Q[1][-1])\n",
        "    if(new_Qka==R[0]):\n",
        "      \n",
        "      print(\"Arm 1 converged at: \",i)\n",
        "    if(new_Qkb==R[1]):\n",
        "      \n",
        "      print(\"Arm 2 converged at: \",i)\n",
        "    temp=random.random()\n",
        "    if(temp<e):\n",
        "      exploration+=1\n",
        "      temp1=random.choice([0,1])\n",
        "      if(temp1==0):\n",
        "        # Q[0][i]=new_Qka\n",
        "        arm1+=1\n",
        "        Q[0].append(new_Qka)\n",
        "        \n",
        "        # print(\"Arm 1\")\n",
        "      else:\n",
        "        # Q[1][i]=new_Qkb\n",
        "        arm2+=1\n",
        "        Q[1].append(new_Qkb)\n",
        "        # print(\"Arm 2\")\n",
        "    else:\n",
        "      expliotation+=1\n",
        "      if(new_Qka>new_Qkb):\n",
        "        # Q[0][i]=new_Qka\n",
        "        arm1+=1\n",
        "        Q[0].append(new_Qka)\n",
        "        # print(\"Arm 1\")\n",
        "      else:\n",
        "        # Q[1][i]=new_Qkb\n",
        "        arm2+=1\n",
        "        Q[1].append(new_Qkb)\n",
        "        # print(\"Arm 2\")\n",
        "    total.append(arm1*R[0]+arm2*R[1])\n",
        "\n",
        "    # print(Q)\n",
        "\n",
        "  # print(Q)\n",
        "  print(\"Exploration: \",exploration)\n",
        "  print(\"Exploitation: \",expliotation)\n",
        "  plt.axhline(y = 0.25, color = 'r', linestyle = '-')\n",
        "  plt.axhline(y = 0.5, color = 'g', linestyle = '-')\n",
        "  plt.plot(Q[0])\n",
        "  plt.plot(Q[1])\n",
        "  plt.show()\n"
      ],
      "metadata": {
        "id": "wOEafA8jcQfH"
      },
      "execution_count": null,
      "outputs": []
    },
    {
      "cell_type": "code",
      "source": [
        "import matplotlib.pyplot as plt\n",
        "\n",
        "e=0.3\n",
        "print(\"epsilon: \",e)\n",
        "bandit1(e,R,0.3,100)\n",
        "\n",
        "\n",
        "\n",
        "\n"
      ],
      "metadata": {
        "colab": {
          "base_uri": "https://localhost:8080/",
          "height": 320
        },
        "id": "YaCWGq1tmbxd",
        "outputId": "a6036416-c85e-41c7-e3eb-dfb0102befe4"
      },
      "execution_count": null,
      "outputs": [
        {
          "output_type": "stream",
          "name": "stdout",
          "text": [
            "epsilon:  0.3\n",
            "Exploration:  41\n",
            "Exploitation:  59\n"
          ]
        },
        {
          "output_type": "display_data",
          "data": {
            "text/plain": [
              "<Figure size 432x288 with 1 Axes>"
            ],
            "image/png": "[encoded data removed]"
          },
          "metadata": {
            "needs_background": "light"
          }
        }
      ]
    },
    {
      "cell_type": "code",
      "source": [
        "e_vals=[0.3,0.6,0.9]\n",
        "for ee in e_vals:\n",
        "  print(\"epsilon: \",ee)\n",
        "  bandit(ee,R,0.3,20)\n",
        "plt.xlabel(\"epochs\")\n",
        "plt.ylabel(\"rewards\")\n",
        "plt.legend(e_vals)\n",
        "plt.show()"
      ],
      "metadata": {
        "colab": {
          "base_uri": "https://localhost:8080/",
          "height": 443
        },
        "id": "MRn3uwyAzkSO",
        "outputId": "395ef8ee-7b2b-4f0a-f365-4d6b21720a38"
      },
      "execution_count": null,
      "outputs": [
        {
          "output_type": "stream",
          "name": "stdout",
          "text": [
            "epsilon:  0.3\n",
            "Exploration:  9\n",
            "Exploitation:  11\n",
            "epsilon:  0.6\n",
            "Exploration:  13\n",
            "Exploitation:  7\n",
            "epsilon:  0.9\n",
            "Exploration:  19\n",
            "Exploitation:  1\n"
          ]
        },
        {
          "output_type": "display_data",
          "data": {
            "text/plain": [
              "<Figure size 432x288 with 1 Axes>"
            ],
            "image/png": "[encoded data removed]"
          },
          "metadata": {
            "needs_background": "light"
          }
        }
      ]
    },
    {
      "cell_type": "code",
      "source": [],
      "metadata": {
        "id": "YeBInJG4w05f"
      },
      "execution_count": null,
      "outputs": []
    }
  ]
}